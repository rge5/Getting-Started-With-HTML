{
  "nbformat": 4,
  "nbformat_minor": 0,
  "metadata": {
    "colab": {
      "provenance": []
    },
    "kernelspec": {
      "name": "python3",
      "display_name": "Python 3"
    },
    "language_info": {
      "name": "python"
    }
  },
  "cells": [
    {
      "cell_type": "markdown",
      "source": [
        "# Getting Started With HTML"
      ],
      "metadata": {
        "id": "PyOY3C2VzlzH"
      }
    },
    {
      "cell_type": "markdown",
      "source": [
        "1. Write a simple program in HTML  that displays the heading \"HTML defines the content and structure of\n",
        "your website” on the web browser?"
      ],
      "metadata": {
        "id": "lAF4dUL-2lcg"
      }
    },
    {
      "cell_type": "code",
      "source": [
        "'''\n",
        "<!DOCTYPE html>\n",
        "<html>\n",
        "<head>\n",
        "    <title>HTML Heading </title>\n",
        "</head>\n",
        "<body>\n",
        "    <h1>HTML defines the content structure of your website</h1>\n",
        "</body>\n",
        "</html>\n",
        "'''"
      ],
      "metadata": {
        "id": "ehQqZuA1Gf8u",
        "colab": {
          "base_uri": "https://localhost:8080/",
          "height": 36
        },
        "outputId": "ba6c4c21-a38d-4856-bdf2-270e085c08fe"
      },
      "execution_count": null,
      "outputs": [
        {
          "output_type": "execute_result",
          "data": {
            "text/plain": [
              "'\\n<!DOCTYPE html>\\n<html>\\n<head>\\n    <title>HTML Heading </title>\\n</head>\\n<body>\\n    <h1>HTML defines the content structure of your website</h1>\\n</body>\\n</html>\\n'"
            ],
            "application/vnd.google.colaboratory.intrinsic+json": {
              "type": "string"
            }
          },
          "metadata": {},
          "execution_count": 10
        }
      ]
    },
    {
      "cell_type": "markdown",
      "source": [
        "2.Explain the purpose of comments in HTML and provide an example of how to use comments in an HTML document?\n",
        "\n",
        "    -> purpose of comment in html:-\n",
        "\n",
        "\n",
        "*   Add notes in the code.\n",
        "*   temporarily disable part of the code during testing.\n",
        "*   Make code redable.\n",
        "\n",
        "Example:-"
      ],
      "metadata": {
        "id": "TunYCqVtHQxE"
      }
    },
    {
      "cell_type": "code",
      "source": [
        "'''<!--This is coment-->'''"
      ],
      "metadata": {
        "id": "7nexivue_5UE"
      },
      "execution_count": null,
      "outputs": []
    },
    {
      "cell_type": "markdown",
      "source": [
        "3.Write an HTML program that includes a heading, a paragraph of text, a horizontal line, and a line break.\n",
        "Arrange these elements to create a simple web page layout?"
      ],
      "metadata": {
        "id": "UY4qKblrFAQJ"
      }
    },
    {
      "cell_type": "code",
      "source": [
        "'''\n",
        "<!DOCTYPE html>\n",
        "<html lsng=\"en\">\n",
        "<head>\n",
        "<title>DOCUMENT</title>\n",
        "</head>\n",
        "<main>\n",
        "<h1>Welcome To My First Website</h1>\n",
        "<hr>\n",
        "<p>This is a basic paragraph demonstrating how HTML elements work.<br>\n",
        "        Here's a new line using br tag</p>\n",
        "        <hr>\n",
        "</main>\n",
        "</html>\n",
        "'''"
      ],
      "metadata": {
        "id": "EhnqYrtSFLD9"
      },
      "execution_count": null,
      "outputs": []
    },
    {
      "cell_type": "markdown",
      "source": [
        "4. Write a short note on Tag and element with an example?\n",
        "\n",
        "    -> Tag:\n",
        "A tag is a part of HTML code that defines how content should appear on a web page. Tags are written inside angle brackets. Most tags come in pairs — an opening tag and a closing tag .\n",
        "Element:\n",
        "An element includes the opening tag, the content, and the closing tag. It is the complete unit that tells the browser how to display content.\n",
        "\n"
      ],
      "metadata": {
        "id": "3tcYBsJ3CXj2"
      }
    },
    {
      "cell_type": "code",
      "source": [
        "'''Tag Example: <p>This is Tag</p>'''"
      ],
      "metadata": {
        "id": "nNFmcplvybz4"
      },
      "execution_count": null,
      "outputs": []
    },
    {
      "cell_type": "markdown",
      "source": [],
      "metadata": {
        "id": "zU-3h-_8xs6U"
      }
    },
    {
      "cell_type": "markdown",
      "source": [
        "5. What is the DOCTYPE Declaration in HTML?\n",
        "\n",
        "    -> The DOCTYPE declaration is an instruction that tells the web browser what version of HTML the page is written in. It helps the browser render the page correctly."
      ],
      "metadata": {
        "id": "lcuZL3bZykAt"
      }
    }
  ]
}